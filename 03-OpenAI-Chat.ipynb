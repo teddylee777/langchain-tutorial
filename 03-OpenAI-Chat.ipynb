{
 "cells": [
  {
   "cell_type": "markdown",
   "metadata": {},
   "source": [
    "## LangChaing + Chat 구성\n",
    "\n",
    "- **채팅 모델(Chat Model)**: LLM을 활용한 대화 흐름(conversation) 을 생성할 수 있습니다.\n",
    "\n",
    "- **프롬프트 템플릿(Prompt Template)**: 프롬프트 템플릿은 기본 메시지, 사용자 입력, 채팅 기록, 문맥(context) 를 결합하여 프롬프트를 쉽게 구성할 수 있게 돕습니다.\n",
    "\n",
    "- **메모리(Memory)**: 대화 흐름에서 대화의 내용을 기록하는 용도입니다.\n",
    "\n",
    "- **리트리버(Retriever)**: 문서의 로드 및 검색을 할 때 활용할 수 있습니다.\n"
   ]
  },
  {
   "cell_type": "markdown",
   "metadata": {},
   "source": [
    "## 환경설정"
   ]
  },
  {
   "cell_type": "markdown",
   "metadata": {},
   "source": [
    "### 라이브러리 설치"
   ]
  },
  {
   "cell_type": "code",
   "execution_count": 11,
   "metadata": {},
   "outputs": [],
   "source": [
    "# 필요한 라이브러리 설치\n",
    "# pip install langchain openai "
   ]
  },
  {
   "cell_type": "code",
   "execution_count": null,
   "metadata": {},
   "outputs": [],
   "source": [
    "import os\n",
    "\n",
    "os.environ['OPENAI_API_KEY'] = 'OPENAI API KEY 입력'"
   ]
  },
  {
   "cell_type": "code",
   "execution_count": 1,
   "metadata": {},
   "outputs": [],
   "source": [
    "import apikey\n",
    "\n",
    "apikey.set_keys()"
   ]
  },
  {
   "cell_type": "markdown",
   "metadata": {},
   "source": [
    "## 챗봇 생성"
   ]
  },
  {
   "cell_type": "code",
   "execution_count": 2,
   "metadata": {},
   "outputs": [
    {
     "data": {
      "text/plain": [
       "AIMessage(content='I really love programming.', additional_kwargs={}, example=False)"
      ]
     },
     "execution_count": 2,
     "metadata": {},
     "output_type": "execute_result"
    }
   ],
   "source": [
    "from langchain.schema import AIMessage, HumanMessage, SystemMessage\n",
    "from langchain.chat_models import ChatOpenAI\n",
    "\n",
    "# LLM 생성\n",
    "chat = ChatOpenAI()\n",
    "\n",
    "# 실행\n",
    "chat(\n",
    "    [HumanMessage(content=\"다음을 영어로 번역해 줘: 나는 프로그래밍을 정말 좋아해요\")]\n",
    ")"
   ]
  },
  {
   "cell_type": "markdown",
   "metadata": {},
   "source": [
    "**메시지 구성요소**\n",
    "- `SystemMessage`: AI 에게 상황을 지정하거나 역할 부여\n",
    "- `HumanMessage`: 사용자 입력 메시기\n",
    "- `AIMessage`: AI 답변 메시지"
   ]
  },
  {
   "cell_type": "code",
   "execution_count": 3,
   "metadata": {},
   "outputs": [
    {
     "data": {
      "text/plain": [
       "AIMessage(content='I really love programming.', additional_kwargs={}, example=False)"
      ]
     },
     "execution_count": 3,
     "metadata": {},
     "output_type": "execute_result"
    }
   ],
   "source": [
    "messages = [\n",
    "    # SystemMessage: 역할 부여\n",
    "    SystemMessage(content=\"너는 한글을 영어로 번역해 주는 전문번역가야.\"),\n",
    "    # 질의\n",
    "    HumanMessage(content=\"나는 프로그래밍을 정말 좋아해요\")\n",
    "]\n",
    "\n",
    "# 실행\n",
    "chat(messages)"
   ]
  },
  {
   "cell_type": "markdown",
   "metadata": {},
   "source": [
    "같은 질문이라 하더라도, `SystemMessage` 에 다른 역할을 부여하면 그에 걸맞는 답변을 얻습니다."
   ]
  },
  {
   "cell_type": "code",
   "execution_count": 4,
   "metadata": {},
   "outputs": [
    {
     "data": {
      "text/plain": [
       "AIMessage(content='프로그래밍을 좋아하시는 분들은 주로 논리적이고 분석적인 사고력을 가지고 있습니다. 이들은 문제 해결에 대한 열정과 호기심을 가지고 있으며, 복잡한 문제를 해결하는 데에 도전하는 것을 즐깁니다. 또한, 프로그래밍은 창의력을 요구하므로, 이들은 문제에 새로운 접근법을 생각해내고 새로운 아이디어를 구현하는 데에 능숙합니다.\\n\\n또한, 프로그래밍은 협업이 필요한 분야이기 때문에, 소통과 협력을 잘할 수 있는 능력을 가지고 있는 경우가 많습니다. 다른 사람들과 아이디어를 공유하고 피드백을 주고 받으며, 함께 프로젝트를 완성하는 과정을 즐깁니다.\\n\\n프로그래밍은 자기계발에 대한 욕구를 충족시키는 분야이기도 합니다. 지속적인 학습과 스스로 개선하는 노력이 필요하기 때문에, 스스로에게 동기를 부여하고 목표를 설정하는 능력을 가지고 있습니다.\\n\\n이러한 특성들은 프로그래밍을 좋아하는 분들이 현실적이고 목표지향적인 성격을 가질 수 있다는 것을 보여줍니다. 하지만, 이는 개인에 따라 다를 수 있으므로 각 개인의 심리적 특성과 경험을 고려하여 상세한 분석이 필요합니다.', additional_kwargs={}, example=False)"
      ]
     },
     "execution_count": 4,
     "metadata": {},
     "output_type": "execute_result"
    }
   ],
   "source": [
    "messages = [\n",
    "    # SystemMessage: 역할 부여\n",
    "    SystemMessage(content=\"너는 심리를 분석하는 심리 분석가야.\"),\n",
    "    # 질의\n",
    "    HumanMessage(content=\"나는 프로그래밍을 정말 좋아해요\")\n",
    "]\n",
    "\n",
    "# 실행\n",
    "chat(messages)"
   ]
  },
  {
   "cell_type": "code",
   "execution_count": 5,
   "metadata": {},
   "outputs": [
    {
     "data": {
      "text/plain": [
       "AIMessage(content='그렇군요! 프로그래밍을 좋아하는 사람들은 다양한 MBTI 유형일 수 있습니다. 그럼 몇 가지 질문을 통해 당신의 성향을 파악해볼까요?\\n\\n1. 새로운 아이디어나 프로젝트에 대해 빠르게 행동하고 적극적으로 참여하는 편인가요? (예: 새로운 프로그래밍 언어를 배우고 싶을 때, 바로 시작해보는 등)\\n2. 프로그래밍을 할 때 세부 사항에 집중하며 꼼꼼하게 작업하는 편인가요? (예: 코드의 문법을 완벽하게 맞추려고 노력하는 등)\\n3. 프로젝트를 진행할 때 계획을 세우고 구체적인 일정을 따라가는 편인가요? (예: 일정에 맞춰 기능을 구현하고 테스트하는 등)\\n4. 다른 사람들과 협업하는 것을 즐기는 편인가요? (예: 팀 프로젝트를 할 때 다른 팀원들과 의견을 공유하고 협력하는 등)\\n5. 문제가 발생했을 때 차분하게 분석하고 해결책을 찾는 편인가요? (예: 버그를 발견했을 때 원인을 파악하고 수정하는 등)\\n\\n이러한 질문을 통해 당신의 성향을 파악하여 MBTI 유형을 예측해볼 수 있습니다.', additional_kwargs={}, example=False)"
      ]
     },
     "execution_count": 5,
     "metadata": {},
     "output_type": "execute_result"
    }
   ],
   "source": [
    "messages = [\n",
    "    # SystemMessage: 역할 부여\n",
    "    SystemMessage(content=\"너는 MBTI 예측가야.\"),\n",
    "    # 질의\n",
    "    HumanMessage(content=\"나는 프로그래밍을 정말 좋아해요\")\n",
    "]\n",
    "\n",
    "# 실행\n",
    "chat(messages)"
   ]
  },
  {
   "cell_type": "markdown",
   "metadata": {},
   "source": [
    "## ConversationChain"
   ]
  },
  {
   "cell_type": "markdown",
   "metadata": {},
   "source": [
    "이전의 채팅 모델을 `ConversationChain` 으로 감쌀 수 있습니다. \n",
    "\n",
    "`ConversationChain` 는 한마디로 `Chat Model` + `Memory` 이라 정의할 수 있습니다.\n",
    "\n",
    "이전의 `Chat Model` 은 대화내용을 저장 혹은 기록하는 작업은 직접해야 합니다. 하지만 `ConversationChain` 을 활용하면, 자동으로 **Memory** 에 대화내용을 저장합니다. \n",
    "\n",
    "즉, `ConversationChain` 자체가 **내장 메모리** 를 가지고 있습니다. 따라서, 메모리에 대한 별도 작업을 생략할 수 있습니다."
   ]
  },
  {
   "cell_type": "code",
   "execution_count": 6,
   "metadata": {},
   "outputs": [
    {
     "name": "stdout",
     "output_type": "stream",
     "text": [
      "Sure! The sentence \"나는 프로그래밍을 정말 좋아해요\" translates to \"I really love programming\" in English. Programming is a fascinating field that allows you to create and build various applications and software. It requires logical thinking, problem-solving skills, and creativity. If you have any other questions or need further assistance, feel free to ask!\n"
     ]
    }
   ],
   "source": [
    "from langchain.chains import ConversationChain  \n",
    "\n",
    "# ConversationChain 객체 생성\n",
    "conversation = ConversationChain(llm=chat)\n",
    "\n",
    "# 1차 질의\n",
    "print(conversation.run(\"다음을 영어로 번역해 줘: 나는 프로그래밍을 정말 좋아해요\"))"
   ]
  },
  {
   "cell_type": "markdown",
   "metadata": {},
   "source": [
    "2차 질의를 하면, 이전 대화내용을 바탕으로 답변을 얻습니다."
   ]
  },
  {
   "cell_type": "code",
   "execution_count": 7,
   "metadata": {},
   "outputs": [
    {
     "name": "stdout",
     "output_type": "stream",
     "text": [
      "That's great to hear! The sentence \"나는 운동도 정말 좋아해요\" translates to \"I also really love exercising\" in English. Exercising is an excellent way to stay fit and healthy. It helps improve cardiovascular health, build muscle strength, and enhance overall physical well-being. There are many different types of exercises you can enjoy, such as running, swimming, cycling, weightlifting, and yoga. Is there a specific type of exercise you prefer or any other topic you would like to discuss?\n"
     ]
    }
   ],
   "source": [
    "# 2차 질의\n",
    "print(conversation.run(\"나는 운동도 정말 좋아해요\"))"
   ]
  },
  {
   "cell_type": "markdown",
   "metadata": {},
   "source": [
    "### 템플릿으로 양식 정의"
   ]
  },
  {
   "cell_type": "code",
   "execution_count": 40,
   "metadata": {},
   "outputs": [
    {
     "name": "stdout",
     "output_type": "stream",
     "text": [
      "\n",
      "\n",
      "\u001b[1m> Entering new LLMChain chain...\u001b[0m\n",
      "Prompt after formatting:\n",
      "\u001b[32;1m\u001b[1;3mSystem: 너는 한글을 영어로 번역해 주는 번역전문가야.\n",
      "Human: 나는 프로그래밍을 정말 좋아해요\u001b[0m\n",
      "\n",
      "\u001b[1m> Finished chain.\u001b[0m\n",
      "I really love programming.\n"
     ]
    }
   ],
   "source": [
    "from langchain.memory import ConversationBufferMemory\n",
    "from langchain.prompts import (\n",
    "    ChatPromptTemplate,\n",
    "    MessagesPlaceholder,\n",
    "    SystemMessagePromptTemplate,\n",
    "    HumanMessagePromptTemplate,\n",
    ")\n",
    "from langchain.chains import LLMChain\n",
    "\n",
    "\n",
    "# 1) 시스템 설정: 역할부여 정의\n",
    "system_template = SystemMessagePromptTemplate.from_template(\"너는 한글을 {language}로 번역해 주는 번역전문가야.\")\n",
    "system_message = system_template.format(language=\"영어\")\n",
    "\n",
    "# 2) ChatPromptTemplate 템플릿 정의\n",
    "prompt = ChatPromptTemplate.from_messages([\n",
    "    system_message,                                              # 역할부여\n",
    "    MessagesPlaceholder(variable_name=\"chat_history\"),           # 메모리 저장소 설정. ConversationBufferMemory의 memory_key 와 동일하게 설정\n",
    "    HumanMessagePromptTemplate.from_template(\"{human_input}\"),   # 사용자 메시지 injection\n",
    "])\n",
    "\n",
    "\n",
    "# 3) 메모리 정의\n",
    "# `return_messages=True`를 사용해야 MessagesPlaceholder에 주입됨\n",
    "# `chat_history`가 MessagesPlaceholder 이름과 일치해야함\n",
    "memory = ConversationBufferMemory(memory_key=\"chat_history\", \n",
    "                                  ai_prefix=\"번역가\",\n",
    "                                  human_prefix=\"사용자\",\n",
    "                                  return_messages=True)\n",
    "\n",
    "\n",
    "# 4) LLM 모델 정의\n",
    "llm = ChatOpenAI(model_name='gpt-3.5-turbo')\n",
    "\n",
    "# 5) LLMChain 정의\n",
    "conversation = LLMChain(\n",
    "    llm=llm,       # LLM\n",
    "    prompt=prompt, # Prompt\n",
    "    verbose=True,  # True 로 설정시 로그 출력\n",
    "    memory=memory  # 메모리\n",
    ")\n",
    "\n",
    "# 6) 실행\n",
    "answer = conversation({\"human_input\": \"나는 프로그래밍을 정말 좋아해요\"})\n",
    "print(answer['text'])"
   ]
  },
  {
   "cell_type": "code",
   "execution_count": 41,
   "metadata": {},
   "outputs": [
    {
     "name": "stdout",
     "output_type": "stream",
     "text": [
      "\n",
      "\n",
      "\u001b[1m> Entering new LLMChain chain...\u001b[0m\n",
      "Prompt after formatting:\n",
      "\u001b[32;1m\u001b[1;3mSystem: 너는 한글을 영어로 번역해 주는 번역전문가야.\n",
      "Human: 나는 프로그래밍을 정말 좋아해요\n",
      "AI: I really love programming.\n",
      "Human: 손흥민은 대한민국의 축구선수 입니다.\u001b[0m\n",
      "\n",
      "\u001b[1m> Finished chain.\u001b[0m\n",
      "Son Heung-min is a South Korean soccer player.\n"
     ]
    }
   ],
   "source": [
    "# 실행 No.2\n",
    "answer = conversation({\"human_input\": \"손흥민은 대한민국의 축구선수 입니다.\"})\n",
    "print(answer['text'])"
   ]
  },
  {
   "cell_type": "markdown",
   "metadata": {},
   "source": [
    "### 대화내용 초기화\n",
    "\n",
    "- 대화 문맥(conversation context)을 초기화 하는 방법은 간단합니다. `memory` 를 `clear()` 함수를 실행하여 초기화 해주면 됩니다."
   ]
  },
  {
   "cell_type": "code",
   "execution_count": 12,
   "metadata": {},
   "outputs": [
    {
     "data": {
      "text/plain": [
       "{'chat_history': [HumanMessage(content='나는 프로그래밍을 정말 좋아해요', additional_kwargs={}, example=False),\n",
       "  AIMessage(content='I really love programming.', additional_kwargs={}, example=False),\n",
       "  HumanMessage(content='손흥민은 대한민국의 축구선수 입니다.', additional_kwargs={}, example=False),\n",
       "  AIMessage(content='Son Heung-min is a South Korean soccer player.', additional_kwargs={}, example=False)]}"
      ]
     },
     "execution_count": 12,
     "metadata": {},
     "output_type": "execute_result"
    }
   ],
   "source": [
    "# 대화목록 출력\n",
    "memory.load_memory_variables({})"
   ]
  },
  {
   "cell_type": "code",
   "execution_count": 13,
   "metadata": {},
   "outputs": [],
   "source": [
    "# 대화내용 초기화\n",
    "memory.clear()"
   ]
  },
  {
   "cell_type": "code",
   "execution_count": 14,
   "metadata": {},
   "outputs": [
    {
     "data": {
      "text/plain": [
       "{'chat_history': []}"
      ]
     },
     "execution_count": 14,
     "metadata": {},
     "output_type": "execute_result"
    }
   ],
   "source": [
    "# 대화목록 출력\n",
    "memory.load_memory_variables({})"
   ]
  },
  {
   "cell_type": "markdown",
   "metadata": {},
   "source": [
    "`SystemMessage` 는 메모리 초기화 후에도 여전히 적용됩니다.\n",
    "\n",
    "따라서, 번역을 수행한 결과가 반환됩니다."
   ]
  },
  {
   "cell_type": "code",
   "execution_count": 42,
   "metadata": {},
   "outputs": [
    {
     "name": "stdout",
     "output_type": "stream",
     "text": [
      "\n",
      "\n",
      "\u001b[1m> Entering new LLMChain chain...\u001b[0m\n",
      "Prompt after formatting:\n",
      "\u001b[32;1m\u001b[1;3mSystem: 너는 한글을 영어로 번역해 주는 번역전문가야.\n",
      "Human: 나는 프로그래밍을 정말 좋아해요\n",
      "AI: I really love programming.\n",
      "Human: 손흥민은 대한민국의 축구선수 입니다.\n",
      "AI: Son Heung-min is a South Korean soccer player.\n",
      "Human: 손흥민은 대한민국의 축구선수 입니다.\u001b[0m\n",
      "\n",
      "\u001b[1m> Finished chain.\u001b[0m\n",
      "Son Heung-min is a South Korean football player.\n"
     ]
    }
   ],
   "source": [
    "# 실행\n",
    "answer = conversation({\"human_input\": \"손흥민은 대한민국의 축구선수 입니다.\"})\n",
    "print(answer['text'])"
   ]
  },
  {
   "cell_type": "markdown",
   "metadata": {},
   "source": [
    "## ConversationSummaryBufferMemory: 요약 메모리\n",
    "\n",
    "`ConversationSummaryBufferMemory` 는최근의 대화 내용을 메모리에 저장합니다.\n",
    "\n",
    "다만, 대화가 길어질 경우 이전 대화내용을 모두 포함할 수 없습니다. 따라서, 이전 대화 내용을 삭제하게 되는데, `ConversationSummaryBufferMemory` 는 완전히 삭제하기보다는 요약 정보로 만듭니다.\n",
    "\n",
    "이전 대화내용에 대한 요약이 발동하는 시점은 **대화의 interaction 횟수가 초과된 경우 혹은 토큰 길이가 초과된 경우**를 기준으로 동작합니다."
   ]
  },
  {
   "cell_type": "code",
   "execution_count": 54,
   "metadata": {},
   "outputs": [
    {
     "name": "stdout",
     "output_type": "stream",
     "text": [
      "\n",
      "\n",
      "\u001b[1m> Entering new LLMChain chain...\u001b[0m\n",
      "Prompt after formatting:\n",
      "\u001b[32;1m\u001b[1;3mSystem: 너는 회사의 마케팅 담당자야. 다음의 상품 정보를 바탕으로 고객 응대를 해줘.\n",
      "\n",
      "상품명: 하늘을 나는 스마트폰\n",
      "제품가격: 300만원\n",
      "주요기능:\n",
      "- 스마트폰을 공중에 띄울 수 있음\n",
      "- 방수기능\n",
      "- 최신식 인공지능 솔루션 탑재\n",
      "- 전화통화\n",
      "- 음악\n",
      "- 인터넷 브라우징, 5G 네트워크, 와이파이, 블루투스\n",
      "제조사: 파인애플\n",
      "\n",
      "Human: 저에게 추천해 줄만한 상품이 있나요?\u001b[0m\n",
      "물론입니다! 저희 파인애플에서 출시한 '하늘을 나는 스마트폰'은 고객님의 요구에 맞는 최고의 상품입니다. 이 제품은 스마트폰을 공중에 띄울 수 있는 기능을 가지고 있어, 독특한 경험을 제공해드릴 수 있습니다. 또한 방수기능이 탑재되어 비가 오거나 물에 젖어도 안전하게 사용하실 수 있습니다. 최신식 인공지능 솔루션도 탑재되어, 편리한 사용과 다양한 기능을 제공해드립니다. 전화통화, 음악 감상, 인터넷 브라우징 등 다양한 기능을 지원하며, 5G 네트워크, 와이파이, 블루투스 기능도 탑재되어 있습니다. 이런 탁월한 기능과 성능을 가진 '하늘을 나는 스마트폰'은 300만원의 가격으로 제공됩니다. 만약 추가로 궁금하신 사항이 있으시면 언제든지 물어보세요!\n",
      "\u001b[1m> Finished chain.\u001b[0m\n",
      "The human asks if there are any recommended products. The AI recommends the \"Flying Smartphone\" from Pineapple, which has the ability to fly in the air and provides a unique experience. It is also waterproof and equipped with the latest AI solutions for convenient use and various functions. It supports various features such as phone calls, music playback, and internet browsing, and is equipped with 5G network, Wi-Fi, and Bluetooth capabilities. The \"Flying Smartphone\" is priced at 3 million won. The AI encourages the human to ask any additional questions they may have."
     ]
    }
   ],
   "source": [
    "from langchain.memory import ConversationSummaryBufferMemory\n",
    "from langchain.callbacks.streaming_stdout import StreamingStdOutCallbackHandler\n",
    "\n",
    "\n",
    "# 1) 시스템 설정: 역할부여 정의\n",
    "system_template = SystemMessagePromptTemplate.from_template(\n",
    "    \"너는 회사의 마케팅 담당자야. 다음의 상품 정보를 바탕으로 고객 응대를 해줘.\\n{product}\"\n",
    ")\n",
    "system_message = system_template.format(product=\"\"\"\n",
    "상품명: 하늘을 나는 스마트폰\n",
    "제품가격: 300만원\n",
    "주요기능:\n",
    "- 스마트폰을 공중에 띄울 수 있음\n",
    "- 방수기능\n",
    "- 최신식 인공지능 솔루션 탑재\n",
    "- 전화통화\n",
    "- 음악\n",
    "- 인터넷 브라우징, 5G 네트워크, 와이파이, 블루투스\n",
    "제조사: 파인애플\n",
    "\"\"\")\n",
    "\n",
    "# 2) ChatPromptTemplate 템플릿 정의\n",
    "prompt = ChatPromptTemplate.from_messages([\n",
    "    system_message,                                              # 역할부여\n",
    "    MessagesPlaceholder(variable_name=\"chat_history\"),           # 메모리 저장소 설정. ConversationBufferMemory의 memory_key 와 동일하게 설정\n",
    "    HumanMessagePromptTemplate.from_template(\"{human_input}\"),   # 사용자 메시지 injection\n",
    "])\n",
    "\n",
    "\n",
    "# 3) 메모리 정의\n",
    "memory = ConversationSummaryBufferMemory(llm=llm, \n",
    "                                         memory_key=\"chat_history\", \n",
    "                                         max_token_limit=10, \n",
    "                                         return_messages=True\n",
    "                                        )\n",
    "\n",
    "\n",
    "# 4) LLM 모델 정의\n",
    "llm = ChatOpenAI(model_name='gpt-3.5-turbo', \n",
    "                 temperature=0.5,\n",
    "                 streaming=True,\n",
    "                 callbacks=[StreamingStdOutCallbackHandler()])\n",
    "\n",
    "# 5) LLMChain 정의\n",
    "conversation = LLMChain(\n",
    "    llm=llm,       # LLM\n",
    "    prompt=prompt, # Prompt\n",
    "    verbose=True,  # True 로 설정시 로그 출력\n",
    "    memory=memory  # 메모리\n",
    ")\n",
    "\n",
    "# 6) 실행\n",
    "answer = conversation({\"human_input\": \"저에게 추천해 줄만한 상품이 있나요?\"})"
   ]
  },
  {
   "cell_type": "code",
   "execution_count": 55,
   "metadata": {},
   "outputs": [
    {
     "name": "stdout",
     "output_type": "stream",
     "text": [
      "\n",
      "\n",
      "\u001b[1m> Entering new LLMChain chain...\u001b[0m\n",
      "Prompt after formatting:\n",
      "\u001b[32;1m\u001b[1;3mSystem: 너는 회사의 마케팅 담당자야. 다음의 상품 정보를 바탕으로 고객 응대를 해줘.\n",
      "\n",
      "상품명: 하늘을 나는 스마트폰\n",
      "제품가격: 300만원\n",
      "주요기능:\n",
      "- 스마트폰을 공중에 띄울 수 있음\n",
      "- 방수기능\n",
      "- 최신식 인공지능 솔루션 탑재\n",
      "- 전화통화\n",
      "- 음악\n",
      "- 인터넷 브라우징, 5G 네트워크, 와이파이, 블루투스\n",
      "제조사: 파인애플\n",
      "\n",
      "System: The human asks if there are any recommended products. The AI recommends the \"Flying Smartphone\" from Pineapple, which has the ability to fly in the air and provides a unique experience. It is also waterproof and equipped with the latest AI solutions for convenient use and various functions. It supports various features such as phone calls, music playback, and internet browsing, and is equipped with 5G network, Wi-Fi, and Bluetooth capabilities. The \"Flying Smartphone\" is priced at 3 million won. The AI encourages the human to ask any additional questions they may have.\n",
      "Human: 제품의 주요 기능에 대해서 소개해 주세요\u001b[0m\n"
     ]
    },
    {
     "name": "stdout",
     "output_type": "stream",
     "text": [
      "저희 \"하늘을 나는 스마트폰\"은 다양한 주요 기능을 제공합니다. \n",
      "\n",
      "첫째로, 스마트폰을 공중에 띄울 수 있는 기능이 있습니다. 이는 고객들이 스마트폰을 높은 곳에서 사용하거나 특별한 경험을 즐길 수 있도록 해줍니다.\n",
      "\n",
      "둘째로, 방수 기능이 탑재되어 있어 물에 젖거나 비에 노출되어도 걱정할 필요가 없습니다. 스마트폰을 걱정 없이 사용할 수 있습니다.\n",
      "\n",
      "셋째로, 최신식 인공지능 솔루션을 탑재하고 있습니다. 이를 통해 스마트폰 사용이 더욱 편리해집니다. 음성인식을 통한 명령 실행, 개인화된 추천 서비스, 자동화된 작업 등 다양한 기능을 경험할 수 있습니다.\n",
      "\n",
      "또한, 전화통화, 음악 재생, 인터넷 브라우징과 같은 기본적인 기능도 제공됩니다. 더불어 5G 네트워크, 와이파이, 블루투스와 같은 다양한 연결 기능도 탑재되어 있습니다.\n",
      "\n",
      "이 모든 기능을 제조한 제조사는 파인애플입니다. 파인애플은 신뢰성과 품질을 중요시하는 제조사로 유명합니다.\n",
      "\n",
      "저희 \"하늘을 나는 스마트폰\"은 고객들에게 탁월한 기능과 혁신적인 경험을 제공할 수 있는 제품입니다. 추가로 궁금한 점이 있으시면 언제든지 물어보세요!\n",
      "\u001b[1m> Finished chain.\u001b[0m\n",
      "The human asks if there are any recommended products. The AI recommends the \"Flying Smartphone\" from Pineapple, which has the ability to fly in the air and provides a unique experience. It is also waterproof and equipped with the latest AI solutions for convenient use and various functions. It supports various features such as phone calls, music playback, and internet browsing, and is equipped with 5G network, Wi-Fi, and Bluetooth capabilities. The \"Flying Smartphone\" is priced at 3 million won. The AI encourages the human to ask any additional questions they may have. The AI introduces the main features of the \"Flying Smartphone,\" including its ability to be flown in the air, its waterproof capabilities, and its inclusion of the latest AI solutions for convenience and various functions. The smartphone also supports basic features such as phone calls, music playback, and internet browsing, and is equipped with 5G network, Wi-Fi, and Bluetooth capabilities. The \"Flying Smartphone\" is manufactured by Pineapple, a reputable company known for prioritizing reliability and quality."
     ]
    }
   ],
   "source": [
    "# 실행\n",
    "answer = conversation({\"human_input\": \"제품의 주요 기능에 대해서 소개해 주세요\"})"
   ]
  },
  {
   "cell_type": "code",
   "execution_count": 56,
   "metadata": {},
   "outputs": [
    {
     "data": {
      "text/plain": [
       "{'chat_history': [SystemMessage(content='The human asks if there are any recommended products. The AI recommends the \"Flying Smartphone\" from Pineapple, which has the ability to fly in the air and provides a unique experience. It is also waterproof and equipped with the latest AI solutions for convenient use and various functions. It supports various features such as phone calls, music playback, and internet browsing, and is equipped with 5G network, Wi-Fi, and Bluetooth capabilities. The \"Flying Smartphone\" is priced at 3 million won. The AI encourages the human to ask any additional questions they may have. The AI introduces the main features of the \"Flying Smartphone,\" including its ability to be flown in the air, its waterproof capabilities, and its inclusion of the latest AI solutions for convenience and various functions. The smartphone also supports basic features such as phone calls, music playback, and internet browsing, and is equipped with 5G network, Wi-Fi, and Bluetooth capabilities. The \"Flying Smartphone\" is manufactured by Pineapple, a reputable company known for prioritizing reliability and quality.', additional_kwargs={})]}"
      ]
     },
     "execution_count": 56,
     "metadata": {},
     "output_type": "execute_result"
    }
   ],
   "source": [
    "# 대화목록 출력\n",
    "memory.load_memory_variables({})"
   ]
  },
  {
   "cell_type": "code",
   "execution_count": 57,
   "metadata": {},
   "outputs": [
    {
     "name": "stdout",
     "output_type": "stream",
     "text": [
      "\n",
      "\n",
      "\u001b[1m> Entering new LLMChain chain...\u001b[0m\n",
      "Prompt after formatting:\n",
      "\u001b[32;1m\u001b[1;3mSystem: 너는 회사의 마케팅 담당자야. 다음의 상품 정보를 바탕으로 고객 응대를 해줘.\n",
      "\n",
      "상품명: 하늘을 나는 스마트폰\n",
      "제품가격: 300만원\n",
      "주요기능:\n",
      "- 스마트폰을 공중에 띄울 수 있음\n",
      "- 방수기능\n",
      "- 최신식 인공지능 솔루션 탑재\n",
      "- 전화통화\n",
      "- 음악\n",
      "- 인터넷 브라우징, 5G 네트워크, 와이파이, 블루투스\n",
      "제조사: 파인애플\n",
      "\n",
      "System: The human asks if there are any recommended products. The AI recommends the \"Flying Smartphone\" from Pineapple, which has the ability to fly in the air and provides a unique experience. It is also waterproof and equipped with the latest AI solutions for convenient use and various functions. It supports various features such as phone calls, music playback, and internet browsing, and is equipped with 5G network, Wi-Fi, and Bluetooth capabilities. The \"Flying Smartphone\" is priced at 3 million won. The AI encourages the human to ask any additional questions they may have. The AI introduces the main features of the \"Flying Smartphone,\" including its ability to be flown in the air, its waterproof capabilities, and its inclusion of the latest AI solutions for convenience and various functions. The smartphone also supports basic features such as phone calls, music playback, and internet browsing, and is equipped with 5G network, Wi-Fi, and Bluetooth capabilities. The \"Flying Smartphone\" is manufactured by Pineapple, a reputable company known for prioritizing reliability and quality.\n",
      "Human: 제품은 가격이 어떻게 되나요?\u001b[0m\n",
      "하늘을 나는 스마트폰의 가격은 300만원입니다.\n",
      "\u001b[1m> Finished chain.\u001b[0m\n",
      "The human asks if there are any recommended products. The AI recommends the \"Flying Smartphone\" from Pineapple, which has the ability to fly in the air and provides a unique experience. It is also waterproof and equipped with the latest AI solutions for convenient use and various functions. It supports various features such as phone calls, music playback, and internet browsing, and is equipped with 5G network, Wi-Fi, and Bluetooth capabilities. The \"Flying Smartphone\" is priced at 3 million won. The AI introduces the main features of the \"Flying Smartphone,\" including its ability to be flown in the air, its waterproof capabilities, and its inclusion of the latest AI solutions for convenience and various functions. The smartphone also supports basic features such as phone calls, music playback, and internet browsing, and is equipped with 5G network, Wi-Fi, and Bluetooth capabilities. The \"Flying Smartphone\" is manufactured by Pineapple, a reputable company known for prioritizing reliability and quality. The human asks about the price of the product. The AI responds that the price of the \"Flying Smartphone\" is 3 million won."
     ]
    }
   ],
   "source": [
    "# 실행\n",
    "answer = conversation({\"human_input\": \"제품은 가격이 어떻게 되나요?\"})"
   ]
  },
  {
   "cell_type": "code",
   "execution_count": 58,
   "metadata": {},
   "outputs": [
    {
     "name": "stdout",
     "output_type": "stream",
     "text": [
      "\n",
      "\n",
      "\u001b[1m> Entering new LLMChain chain...\u001b[0m\n",
      "Prompt after formatting:\n",
      "\u001b[32;1m\u001b[1;3mSystem: 너는 회사의 마케팅 담당자야. 다음의 상품 정보를 바탕으로 고객 응대를 해줘.\n",
      "\n",
      "상품명: 하늘을 나는 스마트폰\n",
      "제품가격: 300만원\n",
      "주요기능:\n",
      "- 스마트폰을 공중에 띄울 수 있음\n",
      "- 방수기능\n",
      "- 최신식 인공지능 솔루션 탑재\n",
      "- 전화통화\n",
      "- 음악\n",
      "- 인터넷 브라우징, 5G 네트워크, 와이파이, 블루투스\n",
      "제조사: 파인애플\n",
      "\n",
      "System: The human asks if there are any recommended products. The AI recommends the \"Flying Smartphone\" from Pineapple, which has the ability to fly in the air and provides a unique experience. It is also waterproof and equipped with the latest AI solutions for convenient use and various functions. It supports various features such as phone calls, music playback, and internet browsing, and is equipped with 5G network, Wi-Fi, and Bluetooth capabilities. The \"Flying Smartphone\" is priced at 3 million won. The AI introduces the main features of the \"Flying Smartphone,\" including its ability to be flown in the air, its waterproof capabilities, and its inclusion of the latest AI solutions for convenience and various functions. The smartphone also supports basic features such as phone calls, music playback, and internet browsing, and is equipped with 5G network, Wi-Fi, and Bluetooth capabilities. The \"Flying Smartphone\" is manufactured by Pineapple, a reputable company known for prioritizing reliability and quality. The human asks about the price of the product. The AI responds that the price of the \"Flying Smartphone\" is 3 million won.\n",
      "Human: 제품의 주요기능을 SNS에 게시하는 글로 작성해 주세요.\u001b[0m\n",
      "📱✈️ 하늘을 나는 스마트폰! ✈️📱\n",
      "\n",
      "지금까지 본 적 없는 혁신적인 스마트폰이 나왔어요! 파인애플에서 출시한 '하늘을 나는 스마트폰'이에요. 이제 스마트폰을 공중에 띄워서 사용할 수 있답니다! 🚀\n",
      "\n",
      "이 스마트폰은 방수 기능도 있어서 물에 젖어도 걱정없어요. 그리고 최신식 인공지능 솔루션도 탑재되어 있어 편리하게 사용할 수 있답니다. 전화통화, 음악, 인터넷 브라우징까지 모두 가능하며, 5G 네트워크, 와이파이, 블루투스도 지원해요. 🌐📶\n",
      "\n",
      "이 제품은 파인애플에서 제조한 신뢰성과 품질을 중시하는 제품이에요. 가격은 300만원이지만 그만한 가치가 있답니다! 여러분도 이제 하늘을 나는 스마트폰으로 특별한 경험을 해보세요! 🌈💫\n",
      "\n",
      "#하늘을나는스마트폰 #파인애플 #혁신적인기능 #편리한사용 #5G네트워크 #음악 #인터넷브라우징 #블루투스 #방수기능 #인공지능솔루션 #최신기술 #300만원 #특별한경험 #파인애플제품\n",
      "\u001b[1m> Finished chain.\u001b[0m\n",
      "The human asks if there are any recommended products. The AI recommends the \"Flying Smartphone\" from Pineapple, which has the ability to fly in the air and provides a unique experience. It is also waterproof and equipped with the latest AI solutions for convenient use and various functions. It supports various features such as phone calls, music playback, and internet browsing, and is equipped with 5G network, Wi-Fi, and Bluetooth capabilities. The \"Flying Smartphone\" is priced at 3 million won. The AI introduces the main features of the \"Flying Smartphone,\" including its ability to be flown in the air, its waterproof capabilities, and its inclusion of the latest AI solutions for convenience and various functions. The smartphone also supports basic features such as phone calls, music playback, and internet browsing, and is equipped with 5G network, Wi-Fi, and Bluetooth capabilities. The \"Flying Smartphone\" is manufactured by Pineapple, a reputable company known for prioritizing reliability and quality. The human asks about the price of the product. The AI responds that the price of the \"Flying Smartphone\" is 3 million won. The human asks the AI to write a post on social media about the main features of the product. The AI writes a catchy post highlighting the innovative features of the \"Flying Smartphone,\" such as its ability to fly in the air, its waterproof capabilities, and the inclusion of the latest AI solutions for convenience. It mentions that the smartphone supports phone calls, music playback, internet browsing, and is equipped with 5G network, Wi-Fi, and Bluetooth capabilities. The AI emphasizes that the \"Flying Smartphone\" is a reliable and high-quality product manufactured by Pineapple. It ends the post by encouraging people to experience something special with the \"Flying Smartphone\" and includes relevant hashtags."
     ]
    }
   ],
   "source": [
    "# 실행\n",
    "answer = conversation({\"human_input\": \"제품의 주요기능을 SNS에 게시하는 글로 작성해 주세요.\"})"
   ]
  },
  {
   "cell_type": "code",
   "execution_count": 59,
   "metadata": {},
   "outputs": [
    {
     "name": "stdout",
     "output_type": "stream",
     "text": [
      "📱✈️ 하늘을 나는 스마트폰! ✈️📱\n",
      "\n",
      "지금까지 본 적 없는 혁신적인 스마트폰이 나왔어요! 파인애플에서 출시한 '하늘을 나는 스마트폰'이에요. 이제 스마트폰을 공중에 띄워서 사용할 수 있답니다! 🚀\n",
      "\n",
      "이 스마트폰은 방수 기능도 있어서 물에 젖어도 걱정없어요. 그리고 최신식 인공지능 솔루션도 탑재되어 있어 편리하게 사용할 수 있답니다. 전화통화, 음악, 인터넷 브라우징까지 모두 가능하며, 5G 네트워크, 와이파이, 블루투스도 지원해요. 🌐📶\n",
      "\n",
      "이 제품은 파인애플에서 제조한 신뢰성과 품질을 중시하는 제품이에요. 가격은 300만원이지만 그만한 가치가 있답니다! 여러분도 이제 하늘을 나는 스마트폰으로 특별한 경험을 해보세요! 🌈💫\n",
      "\n",
      "#하늘을나는스마트폰 #파인애플 #혁신적인기능 #편리한사용 #5G네트워크 #음악 #인터넷브라우징 #블루투스 #방수기능 #인공지능솔루션 #최신기술 #300만원 #특별한경험 #파인애플제품\n"
     ]
    }
   ],
   "source": [
    "print(answer['text'])"
   ]
  },
  {
   "cell_type": "code",
   "execution_count": 60,
   "metadata": {},
   "outputs": [
    {
     "name": "stdout",
     "output_type": "stream",
     "text": [
      "\n",
      "\n",
      "\u001b[1m> Entering new LLMChain chain...\u001b[0m\n",
      "Prompt after formatting:\n",
      "\u001b[32;1m\u001b[1;3mSystem: 너는 회사의 마케팅 담당자야. 다음의 상품 정보를 바탕으로 고객 응대를 해줘.\n",
      "\n",
      "상품명: 하늘을 나는 스마트폰\n",
      "제품가격: 300만원\n",
      "주요기능:\n",
      "- 스마트폰을 공중에 띄울 수 있음\n",
      "- 방수기능\n",
      "- 최신식 인공지능 솔루션 탑재\n",
      "- 전화통화\n",
      "- 음악\n",
      "- 인터넷 브라우징, 5G 네트워크, 와이파이, 블루투스\n",
      "제조사: 파인애플\n",
      "\n",
      "System: The human asks if there are any recommended products. The AI recommends the \"Flying Smartphone\" from Pineapple, which has the ability to fly in the air and provides a unique experience. It is also waterproof and equipped with the latest AI solutions for convenient use and various functions. It supports various features such as phone calls, music playback, and internet browsing, and is equipped with 5G network, Wi-Fi, and Bluetooth capabilities. The \"Flying Smartphone\" is priced at 3 million won. The AI introduces the main features of the \"Flying Smartphone,\" including its ability to be flown in the air, its waterproof capabilities, and its inclusion of the latest AI solutions for convenience and various functions. The smartphone also supports basic features such as phone calls, music playback, and internet browsing, and is equipped with 5G network, Wi-Fi, and Bluetooth capabilities. The \"Flying Smartphone\" is manufactured by Pineapple, a reputable company known for prioritizing reliability and quality. The human asks about the price of the product. The AI responds that the price of the \"Flying Smartphone\" is 3 million won. The human asks the AI to write a post on social media about the main features of the product. The AI writes a catchy post highlighting the innovative features of the \"Flying Smartphone,\" such as its ability to fly in the air, its waterproof capabilities, and the inclusion of the latest AI solutions for convenience. It mentions that the smartphone supports phone calls, music playback, internet browsing, and is equipped with 5G network, Wi-Fi, and Bluetooth capabilities. The AI emphasizes that the \"Flying Smartphone\" is a reliable and high-quality product manufactured by Pineapple. It ends the post by encouraging people to experience something special with the \"Flying Smartphone\" and includes relevant hashtags.\n",
      "Human: 좀더 짧게 줄여줘\u001b[0m\n",
      "하늘을 나는 스마트폰! 공중에 띄울 수 있고 방수 기능까지 갖춘 최신 AI 탑재 스마트폰. 전화, 음악, 인터넷 브라우징 등 다양한 기능 지원. 300만원에 파인애플에서 제조. #하늘나는스마트폰 #파인애플 #최신기술\n",
      "\u001b[1m> Finished chain.\u001b[0m\n",
      "The human asks if there are any recommended products. The AI recommends the \"Flying Smartphone\" from Pineapple, which has the ability to fly in the air and provides a unique experience. It is also waterproof and equipped with the latest AI solutions for convenient use and various functions. It supports various features such as phone calls, music playback, and internet browsing, and is equipped with 5G network, Wi-Fi, and Bluetooth capabilities. The \"Flying Smartphone\" is priced at 3 million won. The AI introduces the main features of the \"Flying Smartphone,\" including its ability to be flown in the air, its waterproof capabilities, and its inclusion of the latest AI solutions for convenience and various functions. The smartphone also supports basic features such as phone calls, music playback, and internet browsing, and is equipped with 5G network, Wi-Fi, and Bluetooth capabilities. The \"Flying Smartphone\" is manufactured by Pineapple, a reputable company known for prioritizing reliability and quality. The human asks about the price of the product. The AI responds that the price of the \"Flying Smartphone\" is 3 million won. The human asks the AI to write a post on social media about the main features of the product. The AI writes a catchy post highlighting the innovative features of the \"Flying Smartphone,\" such as its ability to fly in the air, its waterproof capabilities, and the inclusion of the latest AI solutions for convenience. It mentions that the smartphone supports phone calls, music playback, internet browsing, and is equipped with 5G network, Wi-Fi, and Bluetooth capabilities. The AI emphasizes that the \"Flying Smartphone\" is a reliable and high-quality product manufactured by Pineapple. It ends the post by encouraging people to experience something special with the \"Flying Smartphone\" and includes relevant hashtags. The human asks the AI to shorten the post. The AI provides a shorter version of the post, describing the \"Flying Smartphone\" as a smartphone that can fly in the air, is waterproof, and equipped with the latest AI technology. It mentions that the smartphone supports various functions and is priced at 3 million won. The AI adds relevant hashtags to the post, such as #FlyingSmartphone, #Pineapple, and #LatestTechnology."
     ]
    }
   ],
   "source": [
    "# 실행\n",
    "answer = conversation({\"human_input\": \"좀더 짧게 줄여줘\"})"
   ]
  },
  {
   "cell_type": "code",
   "execution_count": 61,
   "metadata": {},
   "outputs": [
    {
     "name": "stdout",
     "output_type": "stream",
     "text": [
      "하늘을 나는 스마트폰! 공중에 띄울 수 있고 방수 기능까지 갖춘 최신 AI 탑재 스마트폰. 전화, 음악, 인터넷 브라우징 등 다양한 기능 지원. 300만원에 파인애플에서 제조. #하늘나는스마트폰 #파인애플 #최신기술\n"
     ]
    }
   ],
   "source": [
    "print(answer['text'])"
   ]
  }
 ],
 "metadata": {
  "kernelspec": {
   "display_name": "base",
   "language": "python",
   "name": "python3"
  },
  "language_info": {
   "codemirror_mode": {
    "name": "ipython",
    "version": 3
   },
   "file_extension": ".py",
   "mimetype": "text/x-python",
   "name": "python",
   "nbconvert_exporter": "python",
   "pygments_lexer": "ipython3",
   "version": "3.10.11"
  },
  "orig_nbformat": 4
 },
 "nbformat": 4,
 "nbformat_minor": 2
}
